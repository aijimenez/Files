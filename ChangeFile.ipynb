{
 "cells": [
  {
   "cell_type": "code",
   "execution_count": null,
   "metadata": {},
   "outputs": [],
   "source": [
    "# create a File\n",
    "import pyinputplus as pyip\n",
    "from pathlib import Path\n",
    "\n",
    "p = Path('modify.txt')\n",
    "p.write_text('The ADJECTIVE panda walked to the NOUN and the VERB.\\nA nearby NOUN was unaffected by these events.')\n",
    "p.read_text()"
   ]
  },
  {
   "cell_type": "code",
   "execution_count": null,
   "metadata": {},
   "outputs": [],
   "source": [
    "# open the file\n",
    "change = open(Path.home() /'Documents/Python_ejercicios/Automate_Boring_Stuff_Python/modify.txt')\n",
    "#read the file\n",
    "cont_string = change.read()\n",
    "cont_string"
   ]
  },
  {
   "cell_type": "code",
   "execution_count": null,
   "metadata": {},
   "outputs": [],
   "source": [
    "#Using REGEX\n",
    "import pyinputplus as pyip\n",
    "import re\n",
    "\n",
    "content = cont_string.split()\n",
    "newContent = []\n",
    "\n",
    "for word in content:\n",
    "    \n",
    "    if (word[0:4] == 'NOUN'):\n",
    "        print('Enter a noun')\n",
    "        Noun = pyip.inputStr()\n",
    "        if re.search(r'[.,!?]', word[-1]):\n",
    "            Noun = Noun + word[-1]\n",
    "            newContent.append(Noun)\n",
    "        else:\n",
    "            newContent.append(Noun)\n",
    "    \n",
    "    elif (word[0:9] == 'ADJECTIVE'):\n",
    "        print('Enter an adjective')\n",
    "        Adj = pyip.inputStr()\n",
    "        if re.search(r'[.,!?]', word[-1]):\n",
    "            Adj = Adj + word[-1]\n",
    "            newContent.append(Adj)\n",
    "        else:\n",
    "            newContent.append(Adj)\n",
    "    \n",
    "    elif (word[0:4] == 'VERB'):\n",
    "        print('Enter a verb')\n",
    "        Verb = pyip.inputStr()\n",
    "        if re.search(r'[.,!?]', word[-1]):\n",
    "            Verb = Verb + word[-1]\n",
    "            newContent.append(Verb)\n",
    "        else:\n",
    "            newContent.append(Verb)      \n",
    "    \n",
    "    else:\n",
    "        newContent.append(word)\n",
    "        \n",
    "new_string = ' '.join(newContent)\n",
    "        \n",
    "#print(newContent)\n",
    "print()\n",
    "print(new_string)"
   ]
  },
  {
   "cell_type": "code",
   "execution_count": null,
   "metadata": {},
   "outputs": [],
   "source": [
    "#appends the new text\n",
    "new_file = open('modify.txt', 'a')\n",
    "new_file.write('\\n')\n",
    "new_file.write('*** New text ***')\n",
    "new_file.write('\\n')\n",
    "new_file.write(new_string)\n",
    "new_file.close()"
   ]
  },
  {
   "cell_type": "code",
   "execution_count": null,
   "metadata": {},
   "outputs": [],
   "source": [
    "#Without REGEX\n",
    "\n",
    "import pyinputplus as pyip\n",
    "\n",
    "content = cont_string.split()\n",
    "newContent = []\n",
    "\n",
    "for word in content:\n",
    "    \n",
    "    if (word == 'NOUN') or (word == 'NOUN.'):\n",
    "        print('Enter a noun')\n",
    "        Noun = pyip.inputStr()\n",
    "        newContent.append(Noun)\n",
    "    \n",
    "    elif (word == 'ADJECTIVE') or (word == 'ADJECTIVE.'):\n",
    "        print('Enter an adjective')\n",
    "        Adj = pyip.inputStr()\n",
    "        newContent.append(Adj)\n",
    "    \n",
    "    elif (word == 'VERB') or (word == 'VERB.'):\n",
    "        print('Enter a verb')\n",
    "        Verb = pyip.inputStr()\n",
    "        newContent.append(Verb)\n",
    "    \n",
    "    else:\n",
    "        newContent.append(word)\n",
    "        \n",
    "new = ' '.join(newContent)\n",
    "        \n",
    "print(newContent)\n",
    "print(new)"
   ]
  }
 ],
 "metadata": {
  "kernelspec": {
   "display_name": "Python 3",
   "language": "python",
   "name": "python3"
  },
  "language_info": {
   "codemirror_mode": {
    "name": "ipython",
    "version": 3
   },
   "file_extension": ".py",
   "mimetype": "text/x-python",
   "name": "python",
   "nbconvert_exporter": "python",
   "pygments_lexer": "ipython3",
   "version": "3.7.3"
  }
 },
 "nbformat": 4,
 "nbformat_minor": 2
}
